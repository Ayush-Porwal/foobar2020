{
 "cells": [
  {
   "cell_type": "markdown",
   "metadata": {},
   "source": [
    "<h1><center> Stage2-Q1 </center></h1>"
   ]
  },
  {
   "cell_type": "code",
   "execution_count": 1,
   "metadata": {},
   "outputs": [],
   "source": [
    "x = [2, 0, 2, 2, 0]\n",
    "y = [-2, -3, 4, -5]"
   ]
  },
  {
   "cell_type": "code",
   "execution_count": 3,
   "metadata": {},
   "outputs": [],
   "source": [
    "def solution(xs):\n",
    "    \n",
    "    #Basic Edge cases\n",
    " \n",
    "    if len(xs) == 0:\n",
    "        return str(0)\n",
    "    if len(xs) == 1:\n",
    "        return str(xs[0])\n",
    " \n",
    "    #seperate +ve and -ve\n",
    " \n",
    "    pnums=[]\n",
    "    nnums=[]\n",
    " \n",
    "    for x in xs:\n",
    "        if x>0:\n",
    "            pnums.append(x)\n",
    "        elif x<0:\n",
    "            nnums.append(x)\n",
    "    \n",
    "    \n",
    "    #store length of each \n",
    " \n",
    "    p_length = len(pnums)\n",
    "    n_length = len(nnums)\n",
    " \n",
    "    #Single Negative Element edge case\n",
    " \n",
    "    if n_length == 1 and p_length == 0:\n",
    "        return str(0)\n",
    " \n",
    "    #All zero edge case\n",
    " \n",
    "    if n_length == 0 and p_length == 0:\n",
    "        return str(0)\n",
    " \n",
    "    #+ve power calculation\n",
    " \n",
    "    power_out = 1\n",
    " \n",
    "    for p in pnums:\n",
    "        power_out = p*power_out\n",
    " \n",
    "    #Removing the least negative number in negatives if length is odd\n",
    " \n",
    "    if n_length%2 != 0:\n",
    "        nnums.remove(max(nnums))\n",
    " \n",
    "    #Now accumulate negative powers in total power\n",
    " \n",
    "    for n in nnums:\n",
    "        power_out *= n;\n",
    " \n",
    "    \n",
    "    return str(power_out)"
   ]
  },
  {
   "cell_type": "code",
   "execution_count": 4,
   "metadata": {},
   "outputs": [
    {
     "data": {
      "text/plain": [
       "'8'"
      ]
     },
     "execution_count": 4,
     "metadata": {},
     "output_type": "execute_result"
    }
   ],
   "source": [
    "solution(x)"
   ]
  },
  {
   "cell_type": "code",
   "execution_count": null,
   "metadata": {},
   "outputs": [],
   "source": []
  }
 ],
 "metadata": {
  "kernelspec": {
   "display_name": "Python 3",
   "language": "python",
   "name": "python3"
  },
  "language_info": {
   "codemirror_mode": {
    "name": "ipython",
    "version": 3
   },
   "file_extension": ".py",
   "mimetype": "text/x-python",
   "name": "python",
   "nbconvert_exporter": "python",
   "pygments_lexer": "ipython3",
   "version": "3.7.6"
  }
 },
 "nbformat": 4,
 "nbformat_minor": 4
}
