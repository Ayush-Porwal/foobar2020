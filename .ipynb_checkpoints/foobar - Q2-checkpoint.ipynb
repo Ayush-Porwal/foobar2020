{
 "cells": [
  {
   "cell_type": "code",
   "execution_count": 1,
   "metadata": {},
   "outputs": [],
   "source": [
    "x = [2, 0, 2, 2, 0]"
   ]
  },
  {
   "cell_type": "code",
   "execution_count": 2,
   "metadata": {},
   "outputs": [],
   "source": [
    "y = [-2, -3, 4, -5]"
   ]
  },
  {
   "cell_type": "code",
   "execution_count": 8,
   "metadata": {},
   "outputs": [],
   "source": [
    "import pdb\n",
    "def maxProductInArray(x):\n",
    "    store = -1005 # to store least negative value\n",
    "    flag = False # True if array contains 0\n",
    "    #pdb.set_trace()\n",
    "    maxProduct = 1\n",
    "    \n",
    "    for i in range(0,len(x)):\n",
    "        if x[i] == 0:\n",
    "            flag = True\n",
    "            \n",
    "        if x[i] > store and x[i]<0:\n",
    "            store = x[i]\n",
    "            \n",
    "        if i==0 and x[i]!=0:\n",
    "            maxProduct = x[i]\n",
    "            \n",
    "        if i!=0 and maxProduct > 0:\n",
    "            if x[i] > 0:\n",
    "                maxProduct = maxProduct*x[i]\n",
    "            elif x[i] < 0:\n",
    "                maxProduct = maxProduct*x[i]\n",
    "        elif i!=0 and maxProduct < 0:\n",
    "            maxProduct = maxProduct*x[i]\n",
    "    \n",
    "    if maxProduct<0:\n",
    "        if len(x)>1:\n",
    "            return str(int(maxProduct/store))\n",
    "        else:\n",
    "            return str(maxProduct)\n",
    "        \n",
    "    return str(maxProduct)\n"
   ]
  },
  {
   "cell_type": "code",
   "execution_count": 9,
   "metadata": {},
   "outputs": [
    {
     "name": "stdout",
     "output_type": "stream",
     "text": [
      "8\n",
      "60\n"
     ]
    }
   ],
   "source": [
    "res1 = maxProductInArray(x)\n",
    "print(res1)\n",
    "res2 = maxProductInArray(y)\n",
    "print(res2)"
   ]
  },
  {
   "cell_type": "code",
   "execution_count": 15,
   "metadata": {},
   "outputs": [],
   "source": [
    "def solution(xs):\n",
    "    \n",
    "    positive = []\n",
    "    pProduct = 0\n",
    "    negative = []\n",
    "    nProduct = 0\n",
    "    null = []\n",
    "    \n",
    "    for item in xs:\n",
    "        if item > 0:\n",
    "            positive.append(item)\n",
    "            pProduct = pProduct*item \n",
    "        elif item <0:\n",
    "            negative.append(item)\n",
    "            nProduct = nProduct*item\n",
    "        else:\n",
    "            null.append(item)\n",
    "    print(f'Positive: {positive}\\nNegative: {negative}\\nNull: {null}\\npProduct: {pProduct}\\nnProduct: {nProduct}')"
   ]
  },
  {
   "cell_type": "code",
   "execution_count": 16,
   "metadata": {},
   "outputs": [
    {
     "ename": "TypeError",
     "evalue": "unsupported operand type(s) for *: 'NoneType' and 'int'",
     "output_type": "error",
     "traceback": [
      "\u001b[0;31m---------------------------------------------------------------------------\u001b[0m",
      "\u001b[0;31mTypeError\u001b[0m                                 Traceback (most recent call last)",
      "\u001b[0;32m<ipython-input-16-b83c1b218061>\u001b[0m in \u001b[0;36m<module>\u001b[0;34m\u001b[0m\n\u001b[0;32m----> 1\u001b[0;31m \u001b[0msolution\u001b[0m\u001b[0;34m(\u001b[0m\u001b[0my\u001b[0m\u001b[0;34m)\u001b[0m\u001b[0;34m\u001b[0m\u001b[0;34m\u001b[0m\u001b[0m\n\u001b[0m",
      "\u001b[0;32m<ipython-input-15-ec14fd0dda4a>\u001b[0m in \u001b[0;36msolution\u001b[0;34m(xs)\u001b[0m\n\u001b[1;32m     10\u001b[0m         \u001b[0;32mif\u001b[0m \u001b[0mitem\u001b[0m \u001b[0;34m>\u001b[0m \u001b[0;36m0\u001b[0m\u001b[0;34m:\u001b[0m\u001b[0;34m\u001b[0m\u001b[0;34m\u001b[0m\u001b[0m\n\u001b[1;32m     11\u001b[0m             \u001b[0mpositive\u001b[0m\u001b[0;34m.\u001b[0m\u001b[0mappend\u001b[0m\u001b[0;34m(\u001b[0m\u001b[0mitem\u001b[0m\u001b[0;34m)\u001b[0m\u001b[0;34m\u001b[0m\u001b[0;34m\u001b[0m\u001b[0m\n\u001b[0;32m---> 12\u001b[0;31m             \u001b[0mpProduct\u001b[0m \u001b[0;34m=\u001b[0m \u001b[0mpProduct\u001b[0m\u001b[0;34m*\u001b[0m\u001b[0mitem\u001b[0m\u001b[0;34m\u001b[0m\u001b[0;34m\u001b[0m\u001b[0m\n\u001b[0m\u001b[1;32m     13\u001b[0m         \u001b[0;32melif\u001b[0m \u001b[0mitem\u001b[0m \u001b[0;34m<\u001b[0m\u001b[0;36m0\u001b[0m\u001b[0;34m:\u001b[0m\u001b[0;34m\u001b[0m\u001b[0;34m\u001b[0m\u001b[0m\n\u001b[1;32m     14\u001b[0m             \u001b[0mnegative\u001b[0m\u001b[0;34m.\u001b[0m\u001b[0mappend\u001b[0m\u001b[0;34m(\u001b[0m\u001b[0mitem\u001b[0m\u001b[0;34m)\u001b[0m\u001b[0;34m\u001b[0m\u001b[0;34m\u001b[0m\u001b[0m\n",
      "\u001b[0;31mTypeError\u001b[0m: unsupported operand type(s) for *: 'NoneType' and 'int'"
     ]
    }
   ],
   "source": [
    "solution(y)"
   ]
  },
  {
   "cell_type": "code",
   "execution_count": null,
   "metadata": {},
   "outputs": [],
   "source": []
  }
 ],
 "metadata": {
  "kernelspec": {
   "display_name": "Python 3",
   "language": "python",
   "name": "python3"
  },
  "language_info": {
   "codemirror_mode": {
    "name": "ipython",
    "version": 3
   },
   "file_extension": ".py",
   "mimetype": "text/x-python",
   "name": "python",
   "nbconvert_exporter": "python",
   "pygments_lexer": "ipython3",
   "version": "3.7.6"
  }
 },
 "nbformat": 4,
 "nbformat_minor": 4
}
