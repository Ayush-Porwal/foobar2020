{
 "cells": [
  {
   "cell_type": "markdown",
   "metadata": {},
   "source": [
    "<h1><center> Stage2 - Q1 </center></h1>"
   ]
  },
  {
   "cell_type": "markdown",
   "metadata": {},
   "source": [
    "![title](image/stage2-q1.jpeg)"
   ]
  },
  {
   "cell_type": "code",
   "execution_count": 1,
   "metadata": {},
   "outputs": [
    {
     "name": "stdout",
     "output_type": "stream",
     "text": [
      "-4\n"
     ]
    }
   ],
   "source": [
    "x = [14, 27, 1, 4, 2, 50, 3, 1]\n",
    "y = [2, 4, -4, 3, 1, 1, 14, 27, 50]\n",
    "\n",
    "def solution(x,y):\n",
    "    sol = {}\n",
    "    \n",
    "    for item in x:\n",
    "        if item not in sol:\n",
    "            sol[item] = 1\n",
    "        else:\n",
    "            sol[item] = sol[item] + 1\n",
    "        \n",
    "    for item in y:\n",
    "        if item not in sol:\n",
    "            sol[item] = 1\n",
    "        else:\n",
    "            sol[item] = sol[item] + 1\n",
    "    \n",
    "    for key in sol.keys():\n",
    "        if(sol[key]==1):\n",
    "            print(key)\n",
    "            break\n",
    "\n",
    "solution(x,y)"
   ]
  },
  {
   "cell_type": "code",
   "execution_count": null,
   "metadata": {},
   "outputs": [],
   "source": []
  }
 ],
 "metadata": {
  "kernelspec": {
   "display_name": "Python 3",
   "language": "python",
   "name": "python3"
  },
  "language_info": {
   "codemirror_mode": {
    "name": "ipython",
    "version": 3
   },
   "file_extension": ".py",
   "mimetype": "text/x-python",
   "name": "python",
   "nbconvert_exporter": "python",
   "pygments_lexer": "ipython3",
   "version": "3.7.6"
  }
 },
 "nbformat": 4,
 "nbformat_minor": 4
}
